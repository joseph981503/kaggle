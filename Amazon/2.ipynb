{
 "cells": [
  {
   "cell_type": "code",
   "execution_count": 39,
   "metadata": {},
   "outputs": [],
   "source": [
    "import pandas as pd\n",
    "from __future__ import division\n",
    "import numpy as np\n",
    "import pandas as pd\n",
    "from scipy import stats, integrate\n",
    "import matplotlib.pyplot as plt\n",
    "%matplotlib inline\n",
    "import seaborn as sns\n",
    "sns.set(style=\"whitegrid\", color_codes=True)\n",
    "from sklearn.preprocessing import label_binarize\n",
    "from sklearn.dummy import DummyClassifier\n",
    "from sklearn.metrics import roc_curve, auc, f1_score, accuracy_score, confusion_matrix,precision_recall_curve\n",
    "from sklearn.cross_validation import KFold, StratifiedKFold, cross_val_score\n",
    "from sklearn.tree import DecisionTreeClassifier\n",
    "from sklearn.linear_model import LogisticRegression\n",
    "from sklearn.ensemble import RandomForestClassifier\n",
    "from sklearn import (metrics, cross_validation, linear_model, preprocessing)\n",
    "\n",
    "from scipy import interp"
   ]
  },
  {
   "cell_type": "code",
   "execution_count": 40,
   "metadata": {
    "collapsed": true
   },
   "outputs": [],
   "source": [
    "train = pd.read_csv('train.csv')\n"
   ]
  },
  {
   "cell_type": "code",
   "execution_count": 41,
   "metadata": {
    "collapsed": true
   },
   "outputs": [],
   "source": [
    "train.columns = train.columns.map(lambda x : str.lower(x))\n"
   ]
  },
  {
   "cell_type": "code",
   "execution_count": 45,
   "metadata": {},
   "outputs": [
    {
     "data": {
      "text/plain": [
       "Index(['action', 'resource', 'mgr_id', 'role_rollup_1', 'role_rollup_2',\n",
       "       'role_deptname', 'role_title', 'role_family_desc', 'role_family',\n",
       "       'role_code'],\n",
       "      dtype='object')"
      ]
     },
     "execution_count": 45,
     "metadata": {},
     "output_type": "execute_result"
    }
   ],
   "source": [
    "train.columns"
   ]
  },
  {
   "cell_type": "code",
   "execution_count": 43,
   "metadata": {},
   "outputs": [
    {
     "ename": "SyntaxError",
     "evalue": "invalid syntax (<ipython-input-43-360d6b776eaa>, line 2)",
     "output_type": "error",
     "traceback": [
      "\u001b[0;36m  File \u001b[0;32m\"<ipython-input-43-360d6b776eaa>\"\u001b[0;36m, line \u001b[0;32m2\u001b[0m\n\u001b[0;31m    print str(col) + \" -> \" + str(len(train[col].unique()))\u001b[0m\n\u001b[0m            ^\u001b[0m\n\u001b[0;31mSyntaxError\u001b[0m\u001b[0;31m:\u001b[0m invalid syntax\n"
     ]
    }
   ],
   "source": [
    "for col in train.columns:\n",
    "    print str(col) + \" -> \" + str(len(train[col].unique()))"
   ]
  },
  {
   "cell_type": "code",
   "execution_count": 46,
   "metadata": {},
   "outputs": [
    {
     "name": "stdout",
     "output_type": "stream",
     "text": [
      "action -> 2\n",
      "resource -> 7518\n",
      "mgr_id -> 4243\n",
      "role_rollup_1 -> 128\n",
      "role_rollup_2 -> 177\n",
      "role_deptname -> 449\n",
      "role_title -> 343\n",
      "role_family_desc -> 2358\n",
      "role_family -> 67\n",
      "role_code -> 343\n"
     ]
    }
   ],
   "source": [
    "for col in train.columns:\n",
    "    print (str(col) + \" -> \" + str(len(train[col].unique())))"
   ]
  },
  {
   "cell_type": "code",
   "execution_count": 47,
   "metadata": {},
   "outputs": [
    {
     "data": {
      "text/plain": [
       "0.9421099209618847"
      ]
     },
     "execution_count": 47,
     "metadata": {},
     "output_type": "execute_result"
    }
   ],
   "source": [
    "len(train[train['action']==1])/len(train)"
   ]
  },
  {
   "cell_type": "code",
   "execution_count": 48,
   "metadata": {},
   "outputs": [
    {
     "data": {
      "text/html": [
       "<div>\n",
       "<style>\n",
       "    .dataframe thead tr:only-child th {\n",
       "        text-align: right;\n",
       "    }\n",
       "\n",
       "    .dataframe thead th {\n",
       "        text-align: left;\n",
       "    }\n",
       "\n",
       "    .dataframe tbody tr th {\n",
       "        vertical-align: top;\n",
       "    }\n",
       "</style>\n",
       "<table border=\"1\" class=\"dataframe\">\n",
       "  <thead>\n",
       "    <tr style=\"text-align: right;\">\n",
       "      <th></th>\n",
       "      <th>resource</th>\n",
       "      <th>mgr_id</th>\n",
       "      <th>role_rollup_1</th>\n",
       "      <th>role_rollup_2</th>\n",
       "      <th>role_deptname</th>\n",
       "      <th>role_title</th>\n",
       "      <th>role_family_desc</th>\n",
       "      <th>role_family</th>\n",
       "      <th>role_code</th>\n",
       "    </tr>\n",
       "    <tr>\n",
       "      <th>action</th>\n",
       "      <th></th>\n",
       "      <th></th>\n",
       "      <th></th>\n",
       "      <th></th>\n",
       "      <th></th>\n",
       "      <th></th>\n",
       "      <th></th>\n",
       "      <th></th>\n",
       "      <th></th>\n",
       "    </tr>\n",
       "  </thead>\n",
       "  <tbody>\n",
       "    <tr>\n",
       "      <th>0</th>\n",
       "      <td>42898.348972</td>\n",
       "      <td>26737.799157</td>\n",
       "      <td>117553.749605</td>\n",
       "      <td>118206.734844</td>\n",
       "      <td>118834.391144</td>\n",
       "      <td>127189.345809</td>\n",
       "      <td>169178.854507</td>\n",
       "      <td>183499.856089</td>\n",
       "      <td>119389.313126</td>\n",
       "    </tr>\n",
       "    <tr>\n",
       "      <th>1</th>\n",
       "      <td>42925.487205</td>\n",
       "      <td>25942.943735</td>\n",
       "      <td>116915.690496</td>\n",
       "      <td>118307.666073</td>\n",
       "      <td>118917.596690</td>\n",
       "      <td>125837.918405</td>\n",
       "      <td>170239.787121</td>\n",
       "      <td>183715.916656</td>\n",
       "      <td>119814.016228</td>\n",
       "    </tr>\n",
       "  </tbody>\n",
       "</table>\n",
       "</div>"
      ],
      "text/plain": [
       "            resource        mgr_id  role_rollup_1  role_rollup_2  \\\n",
       "action                                                             \n",
       "0       42898.348972  26737.799157  117553.749605  118206.734844   \n",
       "1       42925.487205  25942.943735  116915.690496  118307.666073   \n",
       "\n",
       "        role_deptname     role_title  role_family_desc    role_family  \\\n",
       "action                                                                  \n",
       "0       118834.391144  127189.345809     169178.854507  183499.856089   \n",
       "1       118917.596690  125837.918405     170239.787121  183715.916656   \n",
       "\n",
       "            role_code  \n",
       "action                 \n",
       "0       119389.313126  \n",
       "1       119814.016228  "
      ]
     },
     "execution_count": 48,
     "metadata": {},
     "output_type": "execute_result"
    }
   ],
   "source": [
    "train.groupby('action').mean()"
   ]
  },
  {
   "cell_type": "code",
   "execution_count": 49,
   "metadata": {},
   "outputs": [
    {
     "data": {
      "text/html": [
       "<div>\n",
       "<style>\n",
       "    .dataframe thead tr:only-child th {\n",
       "        text-align: right;\n",
       "    }\n",
       "\n",
       "    .dataframe thead th {\n",
       "        text-align: left;\n",
       "    }\n",
       "\n",
       "    .dataframe tbody tr th {\n",
       "        vertical-align: top;\n",
       "    }\n",
       "</style>\n",
       "<table border=\"1\" class=\"dataframe\">\n",
       "  <thead>\n",
       "    <tr style=\"text-align: right;\">\n",
       "      <th></th>\n",
       "      <th>resource</th>\n",
       "      <th>mgr_id</th>\n",
       "      <th>role_rollup_1</th>\n",
       "      <th>role_rollup_2</th>\n",
       "      <th>role_deptname</th>\n",
       "      <th>role_title</th>\n",
       "      <th>role_family_desc</th>\n",
       "      <th>role_family</th>\n",
       "      <th>role_code</th>\n",
       "    </tr>\n",
       "    <tr>\n",
       "      <th>action</th>\n",
       "      <th></th>\n",
       "      <th></th>\n",
       "      <th></th>\n",
       "      <th></th>\n",
       "      <th></th>\n",
       "      <th></th>\n",
       "      <th></th>\n",
       "      <th></th>\n",
       "      <th></th>\n",
       "    </tr>\n",
       "  </thead>\n",
       "  <tbody>\n",
       "    <tr>\n",
       "      <th>0</th>\n",
       "      <td>1897</td>\n",
       "      <td>1897</td>\n",
       "      <td>1897</td>\n",
       "      <td>1897</td>\n",
       "      <td>1897</td>\n",
       "      <td>1897</td>\n",
       "      <td>1897</td>\n",
       "      <td>1897</td>\n",
       "      <td>1897</td>\n",
       "    </tr>\n",
       "    <tr>\n",
       "      <th>1</th>\n",
       "      <td>30872</td>\n",
       "      <td>30872</td>\n",
       "      <td>30872</td>\n",
       "      <td>30872</td>\n",
       "      <td>30872</td>\n",
       "      <td>30872</td>\n",
       "      <td>30872</td>\n",
       "      <td>30872</td>\n",
       "      <td>30872</td>\n",
       "    </tr>\n",
       "  </tbody>\n",
       "</table>\n",
       "</div>"
      ],
      "text/plain": [
       "        resource  mgr_id  role_rollup_1  role_rollup_2  role_deptname  \\\n",
       "action                                                                  \n",
       "0           1897    1897           1897           1897           1897   \n",
       "1          30872   30872          30872          30872          30872   \n",
       "\n",
       "        role_title  role_family_desc  role_family  role_code  \n",
       "action                                                        \n",
       "0             1897              1897         1897       1897  \n",
       "1            30872             30872        30872      30872  "
      ]
     },
     "execution_count": 49,
     "metadata": {},
     "output_type": "execute_result"
    }
   ],
   "source": [
    "train.groupby('action').count()"
   ]
  },
  {
   "cell_type": "code",
   "execution_count": 50,
   "metadata": {
    "collapsed": true
   },
   "outputs": [],
   "source": [
    "y_train = train['action']\n",
    "x_train = train[train.columns.difference(['action'])]"
   ]
  },
  {
   "cell_type": "code",
   "execution_count": 12,
   "metadata": {},
   "outputs": [
    {
     "data": {
      "text/plain": [
       "0.94210992096188473"
      ]
     },
     "execution_count": 12,
     "metadata": {},
     "output_type": "execute_result"
    }
   ],
   "source": [
    "clf = DummyClassifier(strategy='most_frequent',random_state=0)\n",
    "clf.fit(x_train, y_train)\n",
    "predictions = clf.predict(x_train)\n",
    "accuracy_score(y_train,predictions)"
   ]
  },
  {
   "cell_type": "code",
   "execution_count": 51,
   "metadata": {},
   "outputs": [
    {
     "data": {
      "text/plain": [
       "0.94210992096188473"
      ]
     },
     "execution_count": 51,
     "metadata": {},
     "output_type": "execute_result"
    }
   ],
   "source": [
    "accuracy_score(y_train, predictions)"
   ]
  },
  {
   "cell_type": "code",
   "execution_count": 52,
   "metadata": {
    "collapsed": true
   },
   "outputs": [],
   "source": [
    "def plot_ROC_curve(classifier, X, y, pos_label=1, n_folds=5):\n",
    "    mean_tpr = 0.0\n",
    "    mean_fpr = np.linspace(0, 1, 100)\n",
    "    all_tpr = []\n",
    "    for i, (train, test) in enumerate(StratifiedKFold(y, n_folds=n_folds)):\n",
    "        probas_ = classifier.fit(X[train], y[train]).predict_proba(X[test])\n",
    "        # Compute ROC curve and area under the curve\n",
    "        fpr, tpr, thresholds = roc_curve(y[test], probas_[:, 1], pos_label=1)\n",
    "        mean_tpr += interp(mean_fpr, fpr, tpr)\n",
    "        mean_tpr[0] = 0.0\n",
    "        roc_auc = auc(fpr, tpr)\n",
    "        plt.plot(fpr, tpr, lw=1, label='ROC fold %d (area = %0.2f)' % (i, roc_auc))\n",
    "    plt.plot([0, 1], [0, 1], '--', color=(0.6, 0.6, 0.6), label='Random')\n",
    "    mean_tpr /= n_folds\n",
    "    mean_tpr[-1] = 1.0\n",
    "    mean_auc = auc(mean_fpr, mean_tpr)\n",
    "    plt.plot(mean_fpr, mean_tpr, 'k--',\n",
    "         label='Mean ROC (area = %0.2f)' % mean_auc, lw=2)\n",
    "    plt.xlim([-0.05, 1.05])\n",
    "    plt.ylim([-0.05, 1.05])\n",
    "    plt.xlabel('False Positive Rate')\n",
    "    plt.ylabel('True Positive Rate')\n",
    "    plt.title('Receiver operating characteristic example')\n",
    "    plt.legend(loc=\"lower right\")\n",
    "    plt.rcParams[\"figure.figsize\"] = (20,2)\n",
    "    plt.show()\n"
   ]
  },
  {
   "cell_type": "code",
   "execution_count": 53,
   "metadata": {
    "collapsed": true
   },
   "outputs": [],
   "source": [
    "def plot_PR_curve(classifier, X, y, n_folds=5):\n",
    "    \"\"\"\n",
    "    Plot a basic precision/recall curve.\n",
    "    \"\"\"\n",
    "    for i, (train, test) in enumerate(StratifiedKFold(y, n_folds=n_folds)):\n",
    "        probas_ = classifier.fit(X[train], y[train]).predict_proba(X[test])\n",
    "        # Compute ROC curve and area the curve\n",
    "        precision, recall, thresholds = precision_recall_curve(y[test], probas_[:, 1],\n",
    "                                                               pos_label=1)\n",
    "        plt.plot(recall, precision, lw=1, label='PR fold %d' % (i,))\n",
    "   #  clf_name = str(type(classifier))\n",
    "   # clf_name = clf_name[clf_name.rindex('.')+1:]\n",
    "    plt.xlim([-0.05, 1.05])\n",
    "    plt.ylim([-0.05, 1.05])\n",
    "    plt.xlabel('Recall')\n",
    "    plt.ylabel('Precision')\n",
    "    plt.title('Precision-recall curve')\n",
    "    plt.legend(loc=\"lower right\")\n",
    "    plt.rcParams[\"figure.figsize\"] = (20,3)\n",
    "    plt.show()"
   ]
  },
  {
   "cell_type": "code",
   "execution_count": 54,
   "metadata": {},
   "outputs": [
    {
     "ename": "NameError",
     "evalue": "name 'wclf' is not defined",
     "output_type": "error",
     "traceback": [
      "\u001b[0;31m---------------------------------------------------------------------------\u001b[0m",
      "\u001b[0;31mNameError\u001b[0m                                 Traceback (most recent call last)",
      "\u001b[0;32m<ipython-input-54-3ab8c843a542>\u001b[0m in \u001b[0;36m<module>\u001b[0;34m()\u001b[0m\n\u001b[0;32m----> 1\u001b[0;31m \u001b[0mplot_ROC_curve\u001b[0m\u001b[0;34m(\u001b[0m\u001b[0mwclf\u001b[0m\u001b[0;34m,\u001b[0m \u001b[0mx_train\u001b[0m\u001b[0;34m.\u001b[0m\u001b[0mas_matrix\u001b[0m\u001b[0;34m(\u001b[0m\u001b[0;34m)\u001b[0m\u001b[0;34m,\u001b[0m \u001b[0my_train\u001b[0m\u001b[0;34m)\u001b[0m\u001b[0;34m\u001b[0m\u001b[0m\n\u001b[0m\u001b[1;32m      2\u001b[0m \u001b[0mplot_PR_curve\u001b[0m\u001b[0;34m(\u001b[0m\u001b[0mRandomForestClassifier\u001b[0m\u001b[0;34m(\u001b[0m\u001b[0;34m)\u001b[0m\u001b[0;34m,\u001b[0m \u001b[0mx_train\u001b[0m\u001b[0;34m.\u001b[0m\u001b[0mas_matrix\u001b[0m\u001b[0;34m(\u001b[0m\u001b[0;34m)\u001b[0m\u001b[0;34m,\u001b[0m \u001b[0my_train\u001b[0m\u001b[0;34m,\u001b[0m \u001b[0mn_folds\u001b[0m\u001b[0;34m=\u001b[0m\u001b[0;36m5\u001b[0m\u001b[0;34m)\u001b[0m\u001b[0;34m\u001b[0m\u001b[0m\n",
      "\u001b[0;31mNameError\u001b[0m: name 'wclf' is not defined"
     ]
    }
   ],
   "source": [
    "plot_ROC_curve(wclf, x_train.as_matrix(), y_train)\n",
    "plot_PR_curve(RandomForestClassifier(), x_train.as_matrix(), y_train, n_folds=5)"
   ]
  },
  {
   "cell_type": "code",
   "execution_count": 17,
   "metadata": {},
   "outputs": [
    {
     "data": {
      "text/plain": [
       "0.49903872562482832"
      ]
     },
     "execution_count": 17,
     "metadata": {},
     "output_type": "execute_result"
    }
   ],
   "source": [
    "clf = DummyClassifier(strategy='uniform',random_state=0)\n",
    "clf.fit(x_train, y_train)\n",
    "clf.score(x_train,y_train)"
   ]
  },
  {
   "cell_type": "code",
   "execution_count": 18,
   "metadata": {},
   "outputs": [
    {
     "data": {
      "text/plain": [
       "0.89059782111141628"
      ]
     },
     "execution_count": 18,
     "metadata": {},
     "output_type": "execute_result"
    }
   ],
   "source": [
    "clf = DummyClassifier(strategy='stratified',random_state=0)\n",
    "clf.fit(x_train, y_train)\n",
    "clf.score(x_train,y_train)"
   ]
  },
  {
   "cell_type": "code",
   "execution_count": 19,
   "metadata": {},
   "outputs": [
    {
     "data": {
      "text/plain": [
       "0.97019217171320371"
      ]
     },
     "execution_count": 19,
     "metadata": {},
     "output_type": "execute_result"
    }
   ],
   "source": [
    "f1_score(y_train,predictions)\n"
   ]
  },
  {
   "cell_type": "code",
   "execution_count": 21,
   "metadata": {},
   "outputs": [
    {
     "data": {
      "image/png": "[encoded data removed]",
      "text/plain": [
       "<matplotlib.figure.Figure at 0x1a1922e780>"
      ]
     },
     "metadata": {},
     "output_type": "display_data"
    }
   ],
   "source": [
    "plot_PR_curve(RandomForestClassifier(), x_train.as_matrix(), y_train, n_folds=5)"
   ]
  },
  {
   "cell_type": "code",
   "execution_count": 24,
   "metadata": {
    "collapsed": true
   },
   "outputs": [],
   "source": [
    "from imblearn.over_sampling import RandomOverSampler\n",
    "# Generate the dataset\n",
    "X = x_train.as_matrix()\n",
    "y = y_train\n",
    "# Apply the random over-sampling\n",
    "ros = RandomOverSampler()\n",
    "X_oversampled, y_oversampled = ros.fit_sample(X, y)"
   ]
  },
  {
   "cell_type": "code",
   "execution_count": 25,
   "metadata": {},
   "outputs": [
    {
     "ename": "NameError",
     "evalue": "name 'y_resampled' is not defined",
     "output_type": "error",
     "traceback": [
      "\u001b[0;31m---------------------------------------------------------------------------\u001b[0m",
      "\u001b[0;31mNameError\u001b[0m                                 Traceback (most recent call last)",
      "\u001b[0;32m<ipython-input-25-8fe9ce29a4a9>\u001b[0m in \u001b[0;36m<module>\u001b[0;34m()\u001b[0m\n\u001b[0;32m----> 1\u001b[0;31m \u001b[0msum\u001b[0m\u001b[0;34m(\u001b[0m\u001b[0my_resampled\u001b[0m\u001b[0;34m)\u001b[0m\u001b[0;34m/\u001b[0m\u001b[0mlen\u001b[0m\u001b[0;34m(\u001b[0m\u001b[0my_resampled\u001b[0m\u001b[0;34m)\u001b[0m\u001b[0;34m\u001b[0m\u001b[0m\n\u001b[0m",
      "\u001b[0;31mNameError\u001b[0m: name 'y_resampled' is not defined"
     ]
    }
   ],
   "source": [
    "sum(y_resampled)/len(y_resampled)\n"
   ]
  },
  {
   "cell_type": "code",
   "execution_count": 26,
   "metadata": {
    "collapsed": true
   },
   "outputs": [],
   "source": [
    "def load_data(filename, use_labels=True):\n",
    "    \"\"\"\n",
    "    Load data from CSV files and return them as numpy arrays\n",
    "    The use_labels parameter indicates whether one should\n",
    "    read the first column (containing class labels). If false,\n",
    "    return all 0s. \n",
    "    \"\"\"\n",
    "\n",
    "    # load column 1 to 8 (ignore last one)\n",
    "    data = np.loadtxt(open(filename), delimiter=',',\n",
    "                      usecols=range(1, 9), skiprows=1)\n",
    "    if use_labels:\n",
    "        labels = np.loadtxt(open(filename), delimiter=',',\n",
    "                            usecols=[0], skiprows=1)\n",
    "    else:\n",
    "        labels = np.zeros(data.shape[0])\n",
    "    return labels, data\n",
    "\n",
    "\n",
    "def save_results(predictions, filename):\n",
    "    \"\"\"Given a vector of predictions, save results in CSV format.\"\"\"\n",
    "    with open(filename, 'w') as f:\n",
    "        f.write(\"id,ACTION\\n\")\n",
    "        for i, pred in enumerate(predictions):\n",
    "            f.write(\"%d,%f\\n\" % (i + 1, pred))"
   ]
  },
  {
   "cell_type": "code",
   "execution_count": 31,
   "metadata": {},
   "outputs": [
    {
     "name": "stdout",
     "output_type": "stream",
     "text": [
      "AUC (fold 1/5): 0.766338\n",
      "AUC (fold 2/5): 0.782376\n",
      "AUC (fold 3/5): 0.783004\n",
      "AUC (fold 4/5): 0.783920\n",
      "AUC (fold 5/5): 0.761249\n",
      "Mean AUC: 0.775377\n"
     ]
    }
   ],
   "source": [
    "from sklearn import svm\n",
    "from sklearn.ensemble import RandomForestClassifier, AdaBoostClassifier, GradientBoostingClassifier\n",
    "model = AdaBoostClassifier(RandomForestClassifier(n_estimators=1000, bootstrap=True, oob_score=True, n_jobs=-1, class_weight='balanced_subsample',max_depth=10),\n",
    "                         algorithm=\"SAMME\",\n",
    "                         n_estimators=10)\n",
    "\n",
    "#model = svm.SVC(kernel='linear', class_weight={0: 10}, probability=True)\n",
    "y, X = load_data('train.csv')\n",
    "y_test, X_test = load_data('test.csv', use_labels=False)\n",
    "SEED = 42  # always use a seed for randomized procedures\n",
    "# === one-hot encoding === #\n",
    "# we want to encode the category IDs encountered both in\n",
    "# the training and the test set, so we fit the encoder on both\n",
    "encoder = preprocessing.OneHotEncoder()\n",
    "encoder.fit(np.vstack((X, X_test)))\n",
    "X = encoder.transform(X)  # Returns a sparse matrix (see numpy.sparse)\n",
    "X_test = encoder.transform(X_test)\n",
    "\n",
    "# if you want to create new features, you'll need to compute them\n",
    "# before the encoding, and append them to your dataset after\n",
    "####\n",
    "# === training & metrics === #\n",
    "mean_auc = 0.0\n",
    "n = 5  # repeat the CV procedure 10 times to get more precise results\n",
    "for i in range(n):\n",
    "    # for each iteration, randomly hold out 20% of the data as CV set\n",
    "    X_train, X_cv, y_train, y_cv = cross_validation.train_test_split(X, y, test_size=.20, random_state=i*SEED)\n",
    "\n",
    "    # if you want to perform feature selection / hyperparameter\n",
    "    # optimization, this is where you want to do it\n",
    "    \n",
    "    # train model and make predictions\n",
    "    model.fit(X_train, y_train) \n",
    "    preds = model.predict_proba(X_cv)[:, 1]\n",
    "\n",
    "    # compute AUC metric for this CV fold\n",
    "    fpr, tpr, thresholds = metrics.roc_curve(y_cv, preds)\n",
    "    roc_auc = metrics.auc(fpr, tpr)\n",
    "    print (\"AUC (fold %d/%d): %f\" % (i + 1, n, roc_auc))\n",
    "    mean_auc += roc_auc\n",
    "\n",
    "print (\"Mean AUC: %f\" % (mean_auc/n))\n",
    "\n",
    "# === Predictions === #\n",
    "# When making predictions, retrain the model on the whole training set\n",
    "model.fit(X, y)\n",
    "preds = model.predict_proba(X_test)[:, 1]\n",
    "save_results(preds, \"output.csv\")"
   ]
  },
  {
   "cell_type": "code",
   "execution_count": 62,
   "metadata": {},
   "outputs": [
    {
     "name": "stdout",
     "output_type": "stream",
     "text": [
      "[ 0.26356268  0.08250416  0.16889373  0.05906269  0.13370498  0.07959345\n",
      "  0.13183175  0.08084656]\n",
      "Index(['action', 'resource', 'mgr_id', 'role_rollup_1', 'role_rollup_2',\n",
      "       'role_deptname', 'role_title', 'role_family_desc', 'role_family',\n",
      "       'role_code'],\n",
      "      dtype='object')\n"
     ]
    }
   ],
   "source": [
    "print (random_forest_classifier.feature_importances_)\n",
    "print (train.columns)"
   ]
  },
  {
   "cell_type": "code",
   "execution_count": 33,
   "metadata": {
    "collapsed": true
   },
   "outputs": [],
   "source": [
    "test = pd.read_csv('test.csv')\n"
   ]
  },
  {
   "cell_type": "code",
   "execution_count": null,
   "metadata": {},
   "outputs": [],
   "source": [
    "test = pd.read_csv('test.csv')\n",
    "def split_target_value(dataframe, column):\n",
    "    target_value = dataframe[column].copy()\n",
    "    dataframe    = dataframe.drop([column],axis=1)\n",
    "    return dataframe, target_value\n",
    "\n",
    "test_dataframe, id_column = split_target_value(test, 'id')\n",
    "output = random_forest_classifier.predict(test_dataframe)"
   ]
  },
  {
   "cell_type": "code",
   "execution_count": 61,
   "metadata": {},
   "outputs": [
    {
     "data": {
      "text/plain": [
       "RandomForestClassifier(bootstrap=True, class_weight='balanced_subsample',\n",
       "            criterion='gini', max_depth=None, max_features='auto',\n",
       "            max_leaf_nodes=None, min_impurity_decrease=0.0,\n",
       "            min_impurity_split=None, min_samples_leaf=1,\n",
       "            min_samples_split=2, min_weight_fraction_leaf=0.0,\n",
       "            n_estimators=1000, n_jobs=-1, oob_score=True,\n",
       "            random_state=None, verbose=0, warm_start=False)"
      ]
     },
     "execution_count": 61,
     "metadata": {},
     "output_type": "execute_result"
    }
   ],
   "source": [
    "from sklearn.ensemble import RandomForestClassifier\n",
    "random_forest_classifier = RandomForestClassifier(n_estimators=1000, bootstrap=True, oob_score=True, n_jobs=-1, class_weight='balanced_subsample')\n",
    "random_forest_classifier.fit(X_clean, y_clean)"
   ]
  },
  {
   "cell_type": "code",
   "execution_count": 55,
   "metadata": {},
   "outputs": [],
   "source": [
    "from imblearn.over_sampling import RandomOverSampler\n",
    "# Generate the dataset\n",
    "X = x_train.as_matrix()\n",
    "y = y_train\n",
    "# Apply the random over-sampling\n",
    "ros = RandomOverSampler()\n",
    "X_oversampled, y_oversampled = ros.fit_sample(X, y)"
   ]
  },
  {
   "cell_type": "code",
   "execution_count": 56,
   "metadata": {},
   "outputs": [],
   "source": [
    "from imblearn.under_sampling import RandomUnderSampler \n",
    "# Generate the dataset\n",
    "X = x_train.as_matrix()\n",
    "y = y_train\n",
    "# Apply the random over-sampling\n",
    "ros = RandomUnderSampler()\n",
    "X_undersampled, y_undersampled = ros.fit_sample(X, y)"
   ]
  },
  {
   "cell_type": "code",
   "execution_count": 57,
   "metadata": {},
   "outputs": [],
   "source": [
    "from imblearn.over_sampling import   SMOTE \n",
    "# Generate the dataset\n",
    "X = x_train.as_matrix()\n",
    "y = y_train\n",
    "# Apply the  smote-sampling\n",
    "sm = SMOTE(random_state=42)\n",
    "X_smote, y_smote = sm.fit_sample(X, y)"
   ]
  },
  {
   "cell_type": "code",
   "execution_count": 60,
   "metadata": {
    "collapsed": true
   },
   "outputs": [],
   "source": [
    "import numpy as np\n",
    "from sklearn.neighbors import NearestNeighbors\n",
    "\n",
    "# Function that creates 2 clusters that partially overlap\n",
    "# @return: X The datapoints e.g.: [f1, f2, ... ,fn]\n",
    "# @return: y the classlabels e.g: [0,1,1,1,0,...,Cn]\n",
    "# @Note : X and y are arrays\n",
    "def createCluster():\n",
    "    X, y = make_blobs(n_samples=500, centers=2, n_features=2,random_state=0,center_box = (-5.0,5.0))\n",
    "    return X,y\n",
    "\n",
    "# Function which detects the Tomeklinks\n",
    "# @param: X The datapoints e.g.: [f1, f2, ... ,fn]\n",
    "# @param: y the classlabels e.g: [0,1,1,1,0,...,Cn]\n",
    "# @return: 1-D arrays with the indices of the TomekLinks and others\n",
    "\n",
    "def detectTomekLinks(X,y):\n",
    "    nonlinks = []\n",
    "    neigh = NearestNeighbors(n_neighbors=2,algorithm = 'kd_tree')\n",
    "    neigh.fit(X)\n",
    "\n",
    "    # k2 stores the first nearest neighbour\n",
    "    k2 = neigh.kneighbors(X)[1]\n",
    "\n",
    "    # k_tomek stores the ones where the labels conflict.\n",
    "    k_tomek = k2[y != y[k2[:,1]]]\n",
    "\n",
    "    # This is for getting the positions\n",
    "    tomekList = np.unique(np.concatenate([k_tomek[:,0],k_tomek[:,1]]))\n",
    "    index = np.arange(0,len(X))\n",
    "    nonlinks = set(index) - set(tomekList)\n",
    "    nonlinks = list(nonlinks)\n",
    "    return np.asarray(nonlinks), np.array(tomekList)\n",
    "\n",
    "\n",
    "# @param: X The datapoints e.g.: [f1, f2, ... ,fn]\n",
    "# @param: y the classlabels e.g: [0,1,1,1,0,...,Cn]\n",
    "# @param: A 1-D array with the indices of the TomekLinks\n",
    "# @return: X The datapoints e.g.: [f1, f2, ... ,fn]\n",
    "# @return: y the classlabels e.g: [0,1,1,1,0,...,Cn]\n",
    "def removeTomekLinks(X,y,tomeklinks):\n",
    "    return X[tomeklinks], y[tomeklinks]\n",
    "\n",
    "x_train = x_train.drop('resource',axis=1)\n",
    "nonlinks,tomeklinks = detectTomekLinks(x_train.as_matrix(),y_train.as_matrix())\n",
    "X_clean,y_clean = removeTomekLinks(x_train.as_matrix(),y_train.as_matrix(),tomeklinks)"
   ]
  },
  {
   "cell_type": "code",
   "execution_count": null,
   "metadata": {
    "collapsed": true
   },
   "outputs": [],
   "source": [
    "\n",
    "from sklearn import svm\n",
    "# get the separating hyperplane using weighted classes\n",
    "wclf = svm.SVC(kernel='linear', class_weight={1: 10})\n",
    "wclf.fit(x_train, y_train)"
   ]
  },
  {
   "cell_type": "code",
   "execution_count": null,
   "metadata": {
    "collapsed": true
   },
   "outputs": [],
   "source": [
    "output_dataframe = pd.DataFrame({'id' : id_column,\n",
    "                                     'ACTION' : preds})\n",
    "output_dataframe.to_csv('output.csv',index=False)"
   ]
  },
  {
   "cell_type": "code",
   "execution_count": null,
   "metadata": {
    "collapsed": true
   },
   "outputs": [],
   "source": []
  }
 ],
 "metadata": {
  "kernelspec": {
   "display_name": "Python 3",
   "language": "python",
   "name": "python3"
  },
  "language_info": {
   "codemirror_mode": {
    "name": "ipython",
    "version": 3
   },
   "file_extension": ".py",
   "mimetype": "text/x-python",
   "name": "python",
   "nbconvert_exporter": "python",
   "pygments_lexer": "ipython3",
   "version": "3.6.3"
  }
 },
 "nbformat": 4,
 "nbformat_minor": 2
}
